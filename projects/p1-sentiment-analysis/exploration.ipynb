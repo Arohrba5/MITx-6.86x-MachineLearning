{
 "cells": [
  {
   "cell_type": "code",
   "execution_count": 19,
   "metadata": {},
   "outputs": [],
   "source": [
    "import pandas as pd"
   ]
  },
  {
   "cell_type": "code",
   "execution_count": 20,
   "metadata": {},
   "outputs": [
    {
     "data": {
      "text/html": [
       "<div>\n",
       "<style scoped>\n",
       "    .dataframe tbody tr th:only-of-type {\n",
       "        vertical-align: middle;\n",
       "    }\n",
       "\n",
       "    .dataframe tbody tr th {\n",
       "        vertical-align: top;\n",
       "    }\n",
       "\n",
       "    .dataframe thead th {\n",
       "        text-align: right;\n",
       "    }\n",
       "</style>\n",
       "<table border=\"1\" class=\"dataframe\">\n",
       "  <thead>\n",
       "    <tr style=\"text-align: right;\">\n",
       "      <th></th>\n",
       "      <th>sentiment</th>\n",
       "      <th>productId</th>\n",
       "      <th>userId</th>\n",
       "      <th>summary</th>\n",
       "      <th>text</th>\n",
       "      <th>helpfulY</th>\n",
       "      <th>helpfulN</th>\n",
       "    </tr>\n",
       "  </thead>\n",
       "  <tbody>\n",
       "    <tr>\n",
       "      <th>0</th>\n",
       "      <td>1</td>\n",
       "      <td>B000SDKDM4</td>\n",
       "      <td>A1NE47S8ZJPLR3</td>\n",
       "      <td>Smooth coffee</td>\n",
       "      <td>My built-in Bosch coffee machine has trouble g...</td>\n",
       "      <td>0</td>\n",
       "      <td>0</td>\n",
       "    </tr>\n",
       "    <tr>\n",
       "      <th>1</th>\n",
       "      <td>1</td>\n",
       "      <td>B000MS6CK2</td>\n",
       "      <td>A1GV419L0C3AJY</td>\n",
       "      <td>awesome</td>\n",
       "      <td>An absolute \"must have\" item for your Bloody M...</td>\n",
       "      <td>0</td>\n",
       "      <td>0</td>\n",
       "    </tr>\n",
       "    <tr>\n",
       "      <th>2</th>\n",
       "      <td>1</td>\n",
       "      <td>B0030F70LO</td>\n",
       "      <td>A8EJ2H1P3ELL3</td>\n",
       "      <td>Great treat for bigger dogs</td>\n",
       "      <td>I have a Great Dane &amp; most treats are gone in ...</td>\n",
       "      <td>2</td>\n",
       "      <td>1</td>\n",
       "    </tr>\n",
       "    <tr>\n",
       "      <th>3</th>\n",
       "      <td>-1</td>\n",
       "      <td>B001EO6GJK</td>\n",
       "      <td>A34R5COY8PP3LE</td>\n",
       "      <td>Disappointing - more like candy than fruit</td>\n",
       "      <td>I got turned on to dried mangoes from the ones...</td>\n",
       "      <td>0</td>\n",
       "      <td>1</td>\n",
       "    </tr>\n",
       "    <tr>\n",
       "      <th>4</th>\n",
       "      <td>1</td>\n",
       "      <td>B004SRH2B6</td>\n",
       "      <td>A23H9F74EMOXEF</td>\n",
       "      <td>Good Product !</td>\n",
       "      <td>I enjoyed the product, good taste, good qualit...</td>\n",
       "      <td>0</td>\n",
       "      <td>1</td>\n",
       "    </tr>\n",
       "    <tr>\n",
       "      <th>5</th>\n",
       "      <td>-1</td>\n",
       "      <td>B007M832YY</td>\n",
       "      <td>A1B2UXUU1H9CPT</td>\n",
       "      <td>Not so good</td>\n",
       "      <td>After doing numerous googles looking for Chips...</td>\n",
       "      <td>0</td>\n",
       "      <td>5</td>\n",
       "    </tr>\n",
       "    <tr>\n",
       "      <th>6</th>\n",
       "      <td>1</td>\n",
       "      <td>B001AHJ2D8</td>\n",
       "      <td>A2XXTGHE0YVZSZ</td>\n",
       "      <td>good-tasting snack</td>\n",
       "      <td>The texture of this chip is firm, solid, subst...</td>\n",
       "      <td>1</td>\n",
       "      <td>0</td>\n",
       "    </tr>\n",
       "    <tr>\n",
       "      <th>7</th>\n",
       "      <td>-1</td>\n",
       "      <td>B002HFLHEE</td>\n",
       "      <td>A2OAYU1SUQC94X</td>\n",
       "      <td>Using because Dr Oz said</td>\n",
       "      <td>I'm drinking oolong tea because Dr Oz said it ...</td>\n",
       "      <td>0</td>\n",
       "      <td>0</td>\n",
       "    </tr>\n",
       "    <tr>\n",
       "      <th>8</th>\n",
       "      <td>-1</td>\n",
       "      <td>B001PNJJTY</td>\n",
       "      <td>A25OGQSPLKZZ6X</td>\n",
       "      <td>Not so great</td>\n",
       "      <td>This dip mix is too salty, and it tastes more ...</td>\n",
       "      <td>0</td>\n",
       "      <td>0</td>\n",
       "    </tr>\n",
       "    <tr>\n",
       "      <th>9</th>\n",
       "      <td>1</td>\n",
       "      <td>B001OCKIP0</td>\n",
       "      <td>A1DBCHREMYNOVT</td>\n",
       "      <td>Delicious!!</td>\n",
       "      <td>I love this amazing product.  I eat it daily i...</td>\n",
       "      <td>0</td>\n",
       "      <td>0</td>\n",
       "    </tr>\n",
       "  </tbody>\n",
       "</table>\n",
       "</div>"
      ],
      "text/plain": [
       "   sentiment   productId          userId  \\\n",
       "0          1  B000SDKDM4  A1NE47S8ZJPLR3   \n",
       "1          1  B000MS6CK2  A1GV419L0C3AJY   \n",
       "2          1  B0030F70LO   A8EJ2H1P3ELL3   \n",
       "3         -1  B001EO6GJK  A34R5COY8PP3LE   \n",
       "4          1  B004SRH2B6  A23H9F74EMOXEF   \n",
       "5         -1  B007M832YY  A1B2UXUU1H9CPT   \n",
       "6          1  B001AHJ2D8  A2XXTGHE0YVZSZ   \n",
       "7         -1  B002HFLHEE  A2OAYU1SUQC94X   \n",
       "8         -1  B001PNJJTY  A25OGQSPLKZZ6X   \n",
       "9          1  B001OCKIP0  A1DBCHREMYNOVT   \n",
       "\n",
       "                                      summary  \\\n",
       "0                               Smooth coffee   \n",
       "1                                     awesome   \n",
       "2                 Great treat for bigger dogs   \n",
       "3  Disappointing - more like candy than fruit   \n",
       "4                              Good Product !   \n",
       "5                                 Not so good   \n",
       "6                          good-tasting snack   \n",
       "7                    Using because Dr Oz said   \n",
       "8                                Not so great   \n",
       "9                                 Delicious!!   \n",
       "\n",
       "                                                text  helpfulY  helpfulN  \n",
       "0  My built-in Bosch coffee machine has trouble g...         0         0  \n",
       "1  An absolute \"must have\" item for your Bloody M...         0         0  \n",
       "2  I have a Great Dane & most treats are gone in ...         2         1  \n",
       "3  I got turned on to dried mangoes from the ones...         0         1  \n",
       "4  I enjoyed the product, good taste, good qualit...         0         1  \n",
       "5  After doing numerous googles looking for Chips...         0         5  \n",
       "6  The texture of this chip is firm, solid, subst...         1         0  \n",
       "7  I'm drinking oolong tea because Dr Oz said it ...         0         0  \n",
       "8  This dip mix is too salty, and it tastes more ...         0         0  \n",
       "9  I love this amazing product.  I eat it daily i...         0         0  "
      ]
     },
     "execution_count": 20,
     "metadata": {},
     "output_type": "execute_result"
    }
   ],
   "source": [
    "df = pd.read_csv(\"reviews_test.tsv\", sep=\"\\t\", encoding=\"ISO-8859-1\")\n",
    "df.head(10)"
   ]
  },
  {
   "cell_type": "code",
   "execution_count": 21,
   "metadata": {},
   "outputs": [
    {
     "name": "stdout",
     "output_type": "stream",
     "text": [
      "<class 'pandas.core.frame.DataFrame'>\n",
      "RangeIndex: 500 entries, 0 to 499\n",
      "Data columns (total 7 columns):\n",
      " #   Column     Non-Null Count  Dtype \n",
      "---  ------     --------------  ----- \n",
      " 0   sentiment  500 non-null    int64 \n",
      " 1   productId  500 non-null    object\n",
      " 2   userId     500 non-null    object\n",
      " 3   summary    500 non-null    object\n",
      " 4   text       500 non-null    object\n",
      " 5   helpfulY   500 non-null    int64 \n",
      " 6   helpfulN   500 non-null    int64 \n",
      "dtypes: int64(3), object(4)\n",
      "memory usage: 27.5+ KB\n"
     ]
    }
   ],
   "source": [
    "df.info()"
   ]
  },
  {
   "cell_type": "code",
   "execution_count": 22,
   "metadata": {},
   "outputs": [
    {
     "data": {
      "text/plain": [
       "sentiment    0\n",
       "productId    0\n",
       "userId       0\n",
       "summary      0\n",
       "text         0\n",
       "helpfulY     0\n",
       "helpfulN     0\n",
       "dtype: int64"
      ]
     },
     "execution_count": 22,
     "metadata": {},
     "output_type": "execute_result"
    }
   ],
   "source": [
    "df.isna().sum()"
   ]
  },
  {
   "cell_type": "code",
   "execution_count": 23,
   "metadata": {},
   "outputs": [
    {
     "data": {
      "text/plain": [
       "sentiment      0\n",
       "productId      0\n",
       "userId         0\n",
       "summary        0\n",
       "text           0\n",
       "helpfulY     253\n",
       "helpfulN     360\n",
       "dtype: int64"
      ]
     },
     "execution_count": 23,
     "metadata": {},
     "output_type": "execute_result"
    }
   ],
   "source": [
    "(df == 0).sum()"
   ]
  },
  {
   "cell_type": "code",
   "execution_count": 24,
   "metadata": {},
   "outputs": [
    {
     "data": {
      "text/plain": [
       "(500, 7)"
      ]
     },
     "execution_count": 24,
     "metadata": {},
     "output_type": "execute_result"
    }
   ],
   "source": [
    "df.shape"
   ]
  }
 ],
 "metadata": {
  "kernelspec": {
   "display_name": "6.86x",
   "language": "python",
   "name": "python3"
  },
  "language_info": {
   "codemirror_mode": {
    "name": "ipython",
    "version": 3
   },
   "file_extension": ".py",
   "mimetype": "text/x-python",
   "name": "python",
   "nbconvert_exporter": "python",
   "pygments_lexer": "ipython3",
   "version": "3.8.20"
  }
 },
 "nbformat": 4,
 "nbformat_minor": 2
}
