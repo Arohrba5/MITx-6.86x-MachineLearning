{
 "cells": [
  {
   "cell_type": "code",
   "execution_count": 1,
   "metadata": {},
   "outputs": [],
   "source": [
    "import pandas as pd \n",
    "import numpy as np "
   ]
  },
  {
   "cell_type": "code",
   "execution_count": 13,
   "metadata": {},
   "outputs": [
    {
     "name": "stdout",
     "output_type": "stream",
     "text": [
      "X: (4, 3)\n",
      "Theta: (3, 1)\n",
      "Y: (4, 1)\n"
     ]
    }
   ],
   "source": [
    "X = np.array([\n",
    "             [1,0,1],\n",
    "             [1,1,1],\n",
    "             [1,1,-1],\n",
    "             [-1,1,1]\n",
    "        ])\n",
    "\n",
    "Y = np.array([\n",
    "             [2],\n",
    "             [2.7],\n",
    "             [-0.7],\n",
    "             [2]\n",
    "])\n",
    "\n",
    "theta = np.array([\n",
    "             [0],\n",
    "             [1],\n",
    "             [2]\n",
    "])\n",
    "\n",
    "print(\"X:\", X.shape)\n",
    "print(\"Theta:\", theta.shape)\n",
    "print(\"Y:\", Y.shape)\n"
   ]
  },
  {
   "cell_type": "code",
   "execution_count": 30,
   "metadata": {},
   "outputs": [
    {
     "name": "stdout",
     "output_type": "stream",
     "text": [
      "Z: [[ 0. ]\n",
      " [-0.3]\n",
      " [ 0.3]\n",
      " [-1. ]]\n",
      "(4, 1)\n",
      "Loss: [[1. ]\n",
      " [1.3]\n",
      " [0.7]\n",
      " [2. ]]\n",
      "(4, 1)\n"
     ]
    }
   ],
   "source": [
    "Z = Y - (X @ theta)\n",
    "\n",
    "print(\"Z:\", Z)\n",
    "print(Z.shape)\n",
    "\n",
    "loss = np.where(Z >= 1, 0, 1 - Z)\n",
    "\n",
    "print(\"Loss:\", loss)\n",
    "print(loss.shape)"
   ]
  },
  {
   "cell_type": "code",
   "execution_count": 31,
   "metadata": {},
   "outputs": [
    {
     "name": "stdout",
     "output_type": "stream",
     "text": [
      "Emperical Risk: 1.25\n"
     ]
    }
   ],
   "source": [
    "emperical_risk = np.sum(loss) / 4\n",
    "\n",
    "print(\"Emperical Risk:\", emperical_risk)"
   ]
  },
  {
   "cell_type": "markdown",
   "metadata": {},
   "source": [
    "Now, we will calculate the empirical risk with the squared error loss. "
   ]
  },
  {
   "cell_type": "code",
   "execution_count": 38,
   "metadata": {},
   "outputs": [
    {
     "name": "stdout",
     "output_type": "stream",
     "text": [
      "Z: [[ 0. ]\n",
      " [-0.3]\n",
      " [ 0.3]\n",
      " [-1. ]]\n",
      "(4, 1)\n",
      "Loss: [[0.   ]\n",
      " [0.045]\n",
      " [0.045]\n",
      " [0.5  ]]\n",
      "(4, 1)\n",
      "Emperical Risk: 0.1475\n"
     ]
    }
   ],
   "source": [
    "Z = Y - (X @ theta)\n",
    "\n",
    "print(\"Z:\", Z)\n",
    "print(Z.shape)\n",
    "\n",
    "loss = Z ** 2 / 2\n",
    "\n",
    "print(\"Loss:\", loss)\n",
    "print(loss.shape)\n",
    "\n",
    "emperical_risk = np.sum(loss) / 4\n",
    "\n",
    "print(\"Emperical Risk:\", emperical_risk)"
   ]
  }
 ],
 "metadata": {
  "kernelspec": {
   "display_name": "6.86x",
   "language": "python",
   "name": "python3"
  },
  "language_info": {
   "codemirror_mode": {
    "name": "ipython",
    "version": 3
   },
   "file_extension": ".py",
   "mimetype": "text/x-python",
   "name": "python",
   "nbconvert_exporter": "python",
   "pygments_lexer": "ipython3",
   "version": "3.8.20"
  }
 },
 "nbformat": 4,
 "nbformat_minor": 2
}
