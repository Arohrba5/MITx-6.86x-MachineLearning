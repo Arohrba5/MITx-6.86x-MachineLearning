{
 "cells": [
  {
   "cell_type": "code",
   "execution_count": 3,
   "metadata": {},
   "outputs": [],
   "source": [
    "import numpy as np"
   ]
  },
  {
   "cell_type": "code",
   "execution_count": 7,
   "metadata": {},
   "outputs": [],
   "source": [
    "def perceptron_algorithm(X, y, start_index):\n",
    "    \"\"\"\n",
    "    Runs the perceptron algorithm on a dataset until convergence.\n",
    "    \n",
    "    Parameters:\n",
    "    X : np.array\n",
    "        Feature matrix where each row is a training example.\n",
    "    y : np.array\n",
    "        Labels corresponding to each training example.\n",
    "    start_index : int\n",
    "        Index to determine the starting point in the dataset.\n",
    "    \n",
    "    Returns:\n",
    "    mistakes : int\n",
    "        Number of mistakes made before convergence.\n",
    "    theta_progression : list\n",
    "        List of weight vectors (θ) at each update step.\n",
    "    \"\"\"\n",
    "    theta = np.array([0.0, 0.0])  # Initialize weight vector\n",
    "    mistakes = 0  # Count mistakes\n",
    "    theta_progression = []  # Store updates\n",
    "    \n",
    "    converged = False\n",
    "    while not converged:\n",
    "        converged = True\n",
    "        for i in range(len(X)):\n",
    "            idx = (start_index + i) % len(X)  # Rotate order based on start index\n",
    "            if np.sign(np.dot(theta, X[idx])) != y[idx]:\n",
    "                theta += y[idx] * X[idx]  # Update rule\n",
    "                mistakes += 1\n",
    "                theta_progression.append(theta.tolist())\n",
    "                converged = False  # Reset convergence flag\n",
    "    \n",
    "    return mistakes, theta_progression"
   ]
  },
  {
   "cell_type": "code",
   "execution_count": 8,
   "metadata": {},
   "outputs": [],
   "source": [
    "# Training set:\n",
    "X = np.array([[-1, -1], [1, 0], [-1, 1.5]])  # Updated dataset\n",
    "y = np.array([1, -1, 1])  # Labels"
   ]
  },
  {
   "cell_type": "code",
   "execution_count": 9,
   "metadata": {},
   "outputs": [
    {
     "name": "stdout",
     "output_type": "stream",
     "text": [
      "Number of mistakes: 2\n",
      "Progression of θ: [[-1.0, -1.0], [-2.0, 0.5]]\n"
     ]
    }
   ],
   "source": [
    "# Run perceptron starting with x^(1)\n",
    "mistakes_x1, theta_progression_x1 = perceptron_algorithm(X, y, start_index=0)\n",
    "\n",
    "# Print results\n",
    "print(\"Number of mistakes:\", mistakes_x1)\n",
    "print(\"Progression of \\u03b8:\", theta_progression_x1)"
   ]
  },
  {
   "cell_type": "code",
   "execution_count": 10,
   "metadata": {},
   "outputs": [
    {
     "name": "stdout",
     "output_type": "stream",
     "text": [
      "Number of mistakes: 1\n",
      "Progression of θ: [[-1.0, 0.0]]\n"
     ]
    }
   ],
   "source": [
    "# Run perceptron starting with x^(2)\n",
    "mistakes_x1, theta_progression_x1 = perceptron_algorithm(X, y, start_index=1)\n",
    "\n",
    "# Print results\n",
    "print(\"Number of mistakes:\", mistakes_x1)\n",
    "print(\"Progression of \\u03b8:\", theta_progression_x1)"
   ]
  },
  {
   "cell_type": "code",
   "execution_count": 11,
   "metadata": {},
   "outputs": [],
   "source": [
    "# Training set:\n",
    "X = np.array([[-1, -1], [1, 0], [-1, 10]])  # Updated dataset\n",
    "y = np.array([1, -1, 1])  # Labels"
   ]
  },
  {
   "cell_type": "code",
   "execution_count": 12,
   "metadata": {},
   "outputs": [
    {
     "name": "stdout",
     "output_type": "stream",
     "text": [
      "Number of mistakes: 6\n",
      "Progression of θ: [[-1.0, -1.0], [-2.0, 9.0], [-3.0, 8.0], [-4.0, 7.0], [-5.0, 6.0], [-6.0, 5.0]]\n"
     ]
    }
   ],
   "source": [
    "# Run perceptron starting with x^(1)\n",
    "mistakes_x1, theta_progression_x1 = perceptron_algorithm(X, y, start_index=0)\n",
    "\n",
    "# Print results\n",
    "print(\"Number of mistakes:\", mistakes_x1)\n",
    "print(\"Progression of \\u03b8:\", theta_progression_x1)"
   ]
  },
  {
   "cell_type": "code",
   "execution_count": 13,
   "metadata": {},
   "outputs": [
    {
     "name": "stdout",
     "output_type": "stream",
     "text": [
      "Number of mistakes: 1\n",
      "Progression of θ: [[-1.0, 0.0]]\n"
     ]
    }
   ],
   "source": [
    "# Run perceptron starting with x^(2)\n",
    "mistakes_x1, theta_progression_x1 = perceptron_algorithm(X, y, start_index=1)\n",
    "\n",
    "# Print results\n",
    "print(\"Number of mistakes:\", mistakes_x1)\n",
    "print(\"Progression of \\u03b8:\", theta_progression_x1)"
   ]
  }
 ],
 "metadata": {
  "kernelspec": {
   "display_name": "6.86x",
   "language": "python",
   "name": "python3"
  },
  "language_info": {
   "codemirror_mode": {
    "name": "ipython",
    "version": 3
   },
   "file_extension": ".py",
   "mimetype": "text/x-python",
   "name": "python",
   "nbconvert_exporter": "python",
   "pygments_lexer": "ipython3",
   "version": "3.8.20"
  }
 },
 "nbformat": 4,
 "nbformat_minor": 2
}
