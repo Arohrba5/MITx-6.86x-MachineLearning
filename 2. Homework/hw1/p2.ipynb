{
 "cells": [
  {
   "cell_type": "code",
   "execution_count": 1,
   "metadata": {},
   "outputs": [],
   "source": [
    "import numpy as np"
   ]
  },
  {
   "cell_type": "code",
   "execution_count": 6,
   "metadata": {},
   "outputs": [
    {
     "name": "stdout",
     "output_type": "stream",
     "text": [
      "Final θ: [-4.0, 2.0]\n",
      "Final θ₀: -2\n"
     ]
    }
   ],
   "source": [
    "def perceptron_with_misclassifications(X, y, misclassifications):\n",
    "    \"\"\"\n",
    "    Runs the perceptron algorithm with predefined misclassification counts.\n",
    "    \n",
    "    Parameters:\n",
    "    X : np.array\n",
    "        Feature matrix where each row is a training example.\n",
    "    y : np.array\n",
    "        Labels corresponding to each training example.\n",
    "    misclassifications : list\n",
    "        Number of times each point is misclassified.\n",
    "    \n",
    "    Returns:\n",
    "    theta : list\n",
    "        Final weight vector after updates.\n",
    "    theta_0 : int\n",
    "        Final bias term.\n",
    "    \"\"\"\n",
    "    theta = np.array([0.0, 0.0])  # Initialize weight vector\n",
    "    theta_0 = 0.0  # Initialize bias term\n",
    "\n",
    "    for i in range(len(X)):\n",
    "        for _ in range(misclassifications[i]):  # Apply updates per misclassification count\n",
    "            theta += y[i] * X[i]\n",
    "            theta_0 += y[i]\n",
    "\n",
    "    return theta.tolist(), int(theta_0)\n",
    "\n",
    "# Define dataset (from table in 2a)\n",
    "X = np.array([[-4, 2], [-2, 1], [-1, -1], [2, 2], [1, -2]])\n",
    "y = np.array([1, 1, -1, -1, -1])\n",
    "misclassifications = [1, 0, 2, 1, 0]  # Given in the table\n",
    "\n",
    "# Compute final values\n",
    "theta_final, theta_0_final = perceptron_with_misclassifications(X, y, misclassifications)\n",
    "\n",
    "# Output results\n",
    "print(\"Final θ:\", theta_final)\n",
    "print(\"Final θ₀:\", theta_0_final)"
   ]
  },
  {
   "cell_type": "code",
   "execution_count": null,
   "metadata": {},
   "outputs": [],
   "source": []
  }
 ],
 "metadata": {
  "kernelspec": {
   "display_name": "6.86x",
   "language": "python",
   "name": "python3"
  },
  "language_info": {
   "codemirror_mode": {
    "name": "ipython",
    "version": 3
   },
   "file_extension": ".py",
   "mimetype": "text/x-python",
   "name": "python",
   "nbconvert_exporter": "python",
   "pygments_lexer": "ipython3",
   "version": "3.8.20"
  }
 },
 "nbformat": 4,
 "nbformat_minor": 2
}
